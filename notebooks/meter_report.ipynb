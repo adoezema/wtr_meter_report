{
 "metadata": {
  "orig_nbformat": 2,
  "kernelspec": {
   "name": "python3",
   "display_name": "Python 3",
   "language": "python"
  }
 },
 "nbformat": 4,
 "nbformat_minor": 2,
 "cells": [
  {
   "source": [
    "## !CLEAR OUTPUT BEFORE COMMIT/PUSH!"
   ],
   "cell_type": "markdown",
   "metadata": {}
  },
  {
   "source": [
    "### Imports"
   ],
   "cell_type": "markdown",
   "metadata": {}
  },
  {
   "cell_type": "code",
   "execution_count": null,
   "metadata": {},
   "outputs": [],
   "source": [
    "from arcgis.gis import GIS\n",
    "from arcgis.features import FeatureLayer, FeatureSet\n",
    "from arcgis.mapping import WebMap, export_map\n",
    "from arcgis.raster import ImageryLayer"
   ]
  },
  {
   "source": [
    "### Login/Locate Data"
   ],
   "cell_type": "markdown",
   "metadata": {}
  },
  {
   "cell_type": "code",
   "execution_count": null,
   "metadata": {},
   "outputs": [],
   "source": [
    "gis = GIS(profile='adoezema_AGO')"
   ]
  },
  {
   "cell_type": "code",
   "execution_count": null,
   "metadata": {},
   "outputs": [],
   "source": [
    "item_id = 'df1e1e2ce742480288318f22e4be721b'\n",
    "feat_lyr = FeatureLayer.fromitem(gis.content.get(item_id))"
   ]
  },
  {
   "source": [
    "### Helper Functions"
   ],
   "cell_type": "markdown",
   "metadata": {}
  },
  {
   "cell_type": "code",
   "execution_count": null,
   "metadata": {},
   "outputs": [],
   "source": [
    "def get_meter_by_id(miu_id, lyr):\n",
    "    keep_fields = ['Meter_Serial', 'Status', 'Meter_Installation', 'Meter_Type', 'Meter_Size', 'Manufacturer', 'Asset_ID', 'Billing_Account_Num', 'Consumption', 'Meter_Cycle', 'Meter_Route', 'Walk', 'Fund_ID', 'Meter_Number', 'Account_Name', 'Account_Number', 'Address', 'MIU_ID', 'Meter_Number1', 'Meter_Size1', 'Reading', 'Last_Reading', 'Meter_Read', 'Days_Since_Last_Read', 'Meter_Status', 'Route_Cycle', 'c2_times_Avg_Consumption', 'Days_of_Above_Avg_Cons', 'Occupancy_Status', 'Maintenance_Requested', 'Included_in_Analysis']\n",
    "    #lat_long_sr = 4326\n",
    "    #state_plane_sr = 3857\n",
    "    wgs_84_sr = 3857\n",
    "    return lyr.query(where=f\"MIU_ID = {miu_id}\", out_fields=keep_fields, out_sr=wgs_84_sr)"
   ]
  },
  {
   "cell_type": "code",
   "execution_count": null,
   "metadata": {},
   "outputs": [],
   "source": [
    "def view_meter(query_result):\n",
    "    m = gis.map()\n",
    "    imagery = ImageryLayer('https://gisservices.oakgov.com/arcgis/rest/services/ImageServices/EnterpriseOrthoCurrentImageService/ImageServer')\n",
    "    m.add_layer(imagery)\n",
    "    m.add_layer(data)\n",
    "    ext = {'spatialReference': {'latestWkid': 3857, 'wkid': 102100},\n",
    "        'xmin': query_result.features[0].geometry['x'] - 50,\n",
    "        'xmax': query_result.features[0].geometry['x'] + 50,\n",
    "        'ymin': query_result.features[0].geometry['y'] - 50,\n",
    "        'ymax': query_result.features[0].geometry['y'] + 50\n",
    "        }\n",
    "    m.extent=ext\n",
    "    m.zoom=20\n",
    "    return m"
   ]
  },
  {
   "source": [
    "### Perform Query"
   ],
   "cell_type": "markdown",
   "metadata": {}
  },
  {
   "cell_type": "code",
   "execution_count": null,
   "metadata": {},
   "outputs": [],
   "source": [
    "data = get_meter_by_id(1551193618, feat_lyr)"
   ]
  },
  {
   "source": [
    "### View Result"
   ],
   "cell_type": "markdown",
   "metadata": {}
  },
  {
   "cell_type": "code",
   "execution_count": null,
   "metadata": {},
   "outputs": [],
   "source": [
    "view_meter(data)"
   ]
  }
 ]
}