{
 "cells": [
  {
   "cell_type": "markdown",
   "metadata": {},
   "source": [
    "## !CLEAR OUTPUT BEFORE COMMIT/PUSH!"
   ]
  },
  {
   "cell_type": "markdown",
   "metadata": {},
   "source": [
    "### Imports"
   ]
  },
  {
   "cell_type": "code",
   "execution_count": null,
   "metadata": {},
   "outputs": [],
   "source": [
    "from arcgis.gis import GIS\n",
    "from arcgis.features import FeatureLayer, FeatureSet\n",
    "from arcgis.mapping import WebMap, export_map\n",
    "from arcgis.raster import ImageryLayer\n",
    "from IPython import display"
   ]
  },
  {
   "cell_type": "markdown",
   "metadata": {},
   "source": [
    "### Login/Locate Data"
   ]
  },
  {
   "cell_type": "code",
   "execution_count": null,
   "metadata": {},
   "outputs": [],
   "source": [
    "gis = GIS(profile='adoezema_AGO')"
   ]
  },
  {
   "cell_type": "code",
   "execution_count": null,
   "metadata": {},
   "outputs": [],
   "source": [
    "item_id = 'df1e1e2ce742480288318f22e4be721b'\n",
    "feat_lyr = FeatureLayer.fromitem(gis.content.get(item_id))"
   ]
  },
  {
   "cell_type": "markdown",
   "metadata": {},
   "source": [
    "### Helper Functions"
   ]
  },
  {
   "cell_type": "code",
   "execution_count": null,
   "metadata": {},
   "outputs": [],
   "source": [
    "def get_meter_by_id(miu_id, lyr):\n",
    "    keep_fields = ['Meter_Serial', 'Status', 'Meter_Installation', 'Meter_Type', 'Meter_Size', 'Manufacturer', 'Asset_ID', 'Billing_Account_Num', 'Consumption', 'Meter_Cycle', 'Meter_Route', 'Walk', 'Fund_ID', 'Meter_Number', 'Account_Name', 'Account_Number', 'Address', 'MIU_ID', 'Meter_Number1', 'Meter_Size1', 'Reading', 'Last_Reading', 'Meter_Read', 'Days_Since_Last_Read', 'Meter_Status', 'Route_Cycle', 'c2_times_Avg_Consumption', 'Days_of_Above_Avg_Cons', 'Occupancy_Status', 'Maintenance_Requested', 'Included_in_Analysis']\n",
    "    #lat_long_sr = 4326\n",
    "    #state_plane_sr = 3857\n",
    "    wgs_84_sr = 3857\n",
    "    return lyr.query(where=f\"MIU_ID = {miu_id}\", out_fields=keep_fields, out_sr=wgs_84_sr)"
   ]
  },
  {
   "cell_type": "code",
   "execution_count": null,
   "metadata": {},
   "outputs": [],
   "source": [
    "def view_meter(query_result):\n",
    "    m = gis.map()\n",
    "    imagery = ImageryLayer('https://gisservices.oakgov.com/arcgis/rest/services/ImageServices/EnterpriseOrthoCurrentImageService/ImageServer')\n",
    "    m.add_layer(imagery)\n",
    "    m.add_layer(data)\n",
    "    ext = {'spatialReference': {'latestWkid': 3857, 'wkid': 102100},\n",
    "        'xmin': query_result.features[0].geometry['x'] - 50,\n",
    "        'xmax': query_result.features[0].geometry['x'] + 50,\n",
    "        'ymin': query_result.features[0].geometry['y'] - 50,\n",
    "        'ymax': query_result.features[0].geometry['y'] + 50\n",
    "        }\n",
    "    m.extent=ext\n",
    "    m.zoom=20\n",
    "    return m"
   ]
  },
  {
   "cell_type": "markdown",
   "metadata": {},
   "source": [
    "### Perform Query"
   ]
  },
  {
   "cell_type": "code",
   "execution_count": null,
   "metadata": {},
   "outputs": [],
   "source": [
    "data = get_meter_by_id(1551193618, feat_lyr)"
   ]
  },
  {
   "cell_type": "markdown",
   "metadata": {},
   "source": [
    "### View Result"
   ]
  },
  {
   "cell_type": "code",
   "execution_count": null,
   "metadata": {},
   "outputs": [],
   "source": [
    "meter = view_meter(data)"
   ]
  },
  {
   "cell_type": "code",
   "execution_count": null,
   "metadata": {},
   "outputs": [],
   "source": [
    "data_dict = [feat.as_dict for feat in data.features]"
   ]
  },
  {
   "cell_type": "code",
   "execution_count": null,
   "metadata": {},
   "outputs": [],
   "source": [
    "%matplotlib agg\n",
    "import cartopy.crs as ccrs\n",
    "import matplotlib.pyplot as plt\n",
    "from cartopy.io.img_tiles import GoogleTiles\n",
    "from io import BytesIO"
   ]
  },
  {
   "cell_type": "code",
   "execution_count": null,
   "metadata": {},
   "outputs": [],
   "source": [
    "def create_map(feature):\n",
    "    fig = plt.figure(figsize=(5,5))\n",
    "    print(fig)\n",
    "    url = 'https://server.arcgisonline.com/ArcGIS/rest/services/World_Street_Map/MapServer/tile/{z}/{y}/{x}.jpg'\n",
    "    image = GoogleTiles(url=url)\n",
    "    print(image)\n",
    "    ax = fig.add_subplot(1,1,1, projection=image.crs)\n",
    "    print(ax)\n",
    "    ax.add_image(image, 15)\n",
    "    xmin = feature[\"geometry\"][\"x\"] - 500\n",
    "    xmax = feature[\"geometry\"][\"x\"] + 500\n",
    "    ymin = feature[\"geometry\"][\"y\"] - 500\n",
    "    ymax = feature[\"geometry\"][\"y\"] + 500\n",
    "    print(xmax, xmin, ymax, ymin)\n",
    "    ax.scatter(feature[\"geometry\"][\"x\"], feature[\"geometry\"][\"y\"],\n",
    "         color='green', linewidth=2, marker='o'\n",
    "         )\n",
    "    print(ax.scatter) \n",
    "    io_bytes = BytesIO()\n",
    "    print(io_bytes)\n",
    "    plt.savefig(io_bytes,  format='png', bbox_inches='tight')\n",
    "    print(plt)\n",
    "    io_bytes.seek(0)\n",
    "    return base64.b64encode(io_bytes.read()).decode()"
   ]
  },
  {
   "cell_type": "code",
   "execution_count": null,
   "metadata": {},
   "outputs": [],
   "source": [
    "data_dict[0][\"map\"] = create_map(data_dict[0])"
   ]
  },
  {
   "cell_type": "code",
   "execution_count": null,
   "metadata": {},
   "outputs": [],
   "source": [
    "from jinja2 import Environment, FileSystemLoader\n",
    "env = Environment(loader=FileSystemLoader(r'C:\\Users\\adoezema\\PycharmProjects\\wtr_meter_report\\templates'))\n",
    "template = env.get_template(\"report_template.html\")\n",
    "template_variables = {\n",
    "    'title': data.features[0].attributes['MIU_ID'],\n",
    "    'features': data_dict\n",
    "}\n",
    "generate_html = template.render(template_variables)"
   ]
  },
  {
   "cell_type": "code",
   "execution_count": null,
   "metadata": {},
   "outputs": [],
   "source": [
    "from weasyprint import HTML\n",
    "HTML(string=generate_html).write_pdf(r\"C:\\Users\\adoezema\\PycharmProjects\\wtr_meter_report\\reports\\report.pdf\")"
   ]
  },
  {
   "cell_type": "code",
   "execution_count": null,
   "metadata": {},
   "outputs": [],
   "source": []
  }
 ],
 "metadata": {
  "kernelspec": {
   "display_name": "arcgis-clone",
   "language": "python",
   "name": "arcgis-clone"
  },
  "orig_nbformat": 2
 },
 "nbformat": 4,
 "nbformat_minor": 2
}
